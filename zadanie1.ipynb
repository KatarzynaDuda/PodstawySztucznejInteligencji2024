{
  "nbformat": 4,
  "nbformat_minor": 0,
  "metadata": {
    "colab": {
      "provenance": []
    },
    "kernelspec": {
      "name": "python3",
      "display_name": "Python 3"
    },
    "language_info": {
      "name": "python"
    }
  },
  "cells": [
    {
      "cell_type": "code",
      "execution_count": 1,
      "metadata": {
        "colab": {
          "base_uri": "https://localhost:8080/"
        },
        "id": "BTAq__eogZPn",
        "outputId": "07433fbe-23ed-48e0-a915-b84f9611afaf"
      },
      "outputs": [
        {
          "output_type": "stream",
          "name": "stdout",
          "text": [
            "hello world\n"
          ]
        }
      ],
      "source": [
        "print(\"hello world\")"
      ]
    },
    {
      "cell_type": "markdown",
      "source": [],
      "metadata": {
        "id": "eGGyk8MshoiD"
      }
    },
    {
      "cell_type": "code",
      "source": [],
      "metadata": {
        "id": "Ij8DAxKWho04"
      },
      "execution_count": null,
      "outputs": []
    },
    {
      "cell_type": "markdown",
      "source": [],
      "metadata": {
        "id": "90Y-4Y3-hpKh"
      }
    },
    {
      "cell_type": "markdown",
      "source": [
        "## *ddd*dddddddnnn *bbbb*  [tekst linku](https://wp.pl)\n",
        "\n",
        "> Dodaj cytat blokowy\n",
        "\n"
      ],
      "metadata": {
        "id": "5gQwhmn8hpQK"
      }
    }
  ]
}